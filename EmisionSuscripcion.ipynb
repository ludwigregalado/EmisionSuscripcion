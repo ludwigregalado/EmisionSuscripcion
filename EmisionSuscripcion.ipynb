{
 "cells": [
  {
   "cell_type": "markdown",
   "metadata": {},
   "source": [
    "### Análisis exploratorio del los tiempos de atención en Suscripción y Emisión"
   ]
  },
  {
   "cell_type": "code",
   "execution_count": 1,
   "metadata": {},
   "outputs": [],
   "source": [
    "# Importing required libraries\n",
    "import matplotlib\n",
    "import matplotlib.pyplot as plt # Visualization\n",
    "import pyodbc # Database connection\n",
    "import numpy as np# Numerical array operations\n",
    "import pandas as pd# Data frame manipulation\n",
    "import seaborn as sns# Visualization settings\n",
    "sns.set()"
   ]
  },
  {
   "cell_type": "markdown",
   "metadata": {},
   "source": [
    "A continuación, se ejecuta el _query_ de la base de datos de Procesos, tabla: TB_BI_GrlFactOTSolicitud"
   ]
  },
  {
   "cell_type": "code",
   "execution_count": 9,
   "metadata": {},
   "outputs": [],
   "source": [
    "# Reading text information from files\n",
    "server_file = open('server.sql','r')\n",
    "database_file = open('database.sql', 'r')"
   ]
  },
  {
   "cell_type": "code",
   "execution_count": null,
   "metadata": {},
   "outputs": [],
   "source": [
    "# Calling the text file which contains a long query\n",
    "with open(r'D:\\Users\\430008252\\OneDrive - HDI Seguros\\Documentos\\EmisionSuscripcion\\OTs.sql',encoding='utf-8') as inserts:\n",
    "    query = inserts.read()\n",
    "# Settings to connect with the database\n",
    "server = server_file.readline()\n",
    "# database = 'Procesos'\n",
    "database = database_file.readline()\n",
    "DWH = pyodbc.connect(r'DRIVER={SQL Server};SERVER='+server+';DATABASE='+database+';TRUSTED_CONNECTION=TRUE')\n",
    "# close('database.sql')\n",
    "# Query from DWH\n",
    "baseDatos = pd.read_sql_query(query, DWH)"
   ]
  },
  {
   "cell_type": "code",
   "execution_count": 7,
   "metadata": {},
   "outputs": [
    {
     "ename": "NameError",
     "evalue": "name 'close' is not defined",
     "output_type": "error",
     "traceback": [
      "\u001b[1;31m---------------------------------------------------------------------------\u001b[0m",
      "\u001b[1;31mNameError\u001b[0m                                 Traceback (most recent call last)",
      "\u001b[1;32m<ipython-input-7-8cc56b2b80cb>\u001b[0m in \u001b[0;36m<module>\u001b[1;34m\u001b[0m\n\u001b[1;32m----> 1\u001b[1;33m \u001b[0mclose\u001b[0m\u001b[1;33m(\u001b[0m\u001b[1;34m'database.sql'\u001b[0m\u001b[1;33m)\u001b[0m\u001b[1;33m\u001b[0m\u001b[1;33m\u001b[0m\u001b[0m\n\u001b[0m",
      "\u001b[1;31mNameError\u001b[0m: name 'close' is not defined"
     ]
    }
   ],
   "source": [
    "server_file.close()\n",
    "database_file.close()"
   ]
  },
  {
   "cell_type": "code",
   "execution_count": 88,
   "metadata": {},
   "outputs": [],
   "source": [
    "baseDatos['TiempoAtencion'] = baseDatos['TiempoEmision']-baseDatos['TiempoAltaOt']# This column contains the elapsed time\n",
    "baseDatos = baseDatos.drop(columns = [\"IdTipoSolicitud\",\"FechaEmision\",\"ComentarioEmision\",\"Coaseguro\",\"EsEmision\",\"IdEstatus\",\"NumerodeCis\"])"
   ]
  },
  {
   "cell_type": "code",
   "execution_count": 89,
   "metadata": {},
   "outputs": [],
   "source": [
    "# Splitting the main data set into three. One per each TipoPuesto\n",
    "tiempoMaximo =pd.Timedelta(\"30 days 00:00:00.000\")\n",
    "datosAnalista = baseDatos[(baseDatos['TipoPuesto'] == \"Analista\") & (baseDatos['TiempoAtencion'] < tiempoMaximo)]\n",
    "datosESYE = baseDatos[(baseDatos['TipoPuesto'] == \"ESYE\") & (baseDatos['TiempoAtencion'] < tiempoMaximo)]\n",
    "datosDAN = baseDatos[(baseDatos['TipoPuesto'] == \"DAN\") & (baseDatos['TiempoAtencion'] < tiempoMaximo)]"
   ]
  },
  {
   "cell_type": "code",
   "execution_count": 90,
   "metadata": {
    "scrolled": true
   },
   "outputs": [
    {
     "data": {
      "image/png": "[encoded data removed]",
      "text/plain": [
       "<Figure size 432x288 with 1 Axes>"
      ]
     },
     "metadata": {},
     "output_type": "display_data"
    }
   ],
   "source": [
    "# fig, [[ax1, ax2], [ax3, ax4]] = plt.subplots(2, 2, figsize=(10,8))\n",
    "# ax1.set_title(\"Datos HDI\")\n",
    "\n",
    "f = plt.figure()\n",
    "ax1 = f.add_subplot(1,1,1)\n",
    "\n",
    "ax1.bar(np.arange(len(datosAnalista)), datosAnalista.TiempoAtencion.dt.total_seconds()/3600, edgecolor = \"red\")\n",
    "\n",
    "\n",
    "# ax1.yaxis_date()\n",
    "plt.show()"
   ]
  },
  {
   "cell_type": "code",
   "execution_count": 91,
   "metadata": {},
   "outputs": [
    {
     "data": {
      "text/html": [
       "<div>\n",
       "<style scoped>\n",
       "    .dataframe tbody tr th:only-of-type {\n",
       "        vertical-align: middle;\n",
       "    }\n",
       "\n",
       "    .dataframe tbody tr th {\n",
       "        vertical-align: top;\n",
       "    }\n",
       "\n",
       "    .dataframe thead th {\n",
       "        text-align: right;\n",
       "    }\n",
       "</style>\n",
       "<table border=\"1\" class=\"dataframe\">\n",
       "  <thead>\n",
       "    <tr style=\"text-align: right;\">\n",
       "      <th></th>\n",
       "      <th>IdOficina</th>\n",
       "      <th>IdOrigenOT</th>\n",
       "      <th>IdOT</th>\n",
       "      <th>TiempoAltaOt</th>\n",
       "      <th>TiempoActualizacion</th>\n",
       "      <th>TiempoEmision</th>\n",
       "      <th>NombreEstatus</th>\n",
       "      <th>Usuario</th>\n",
       "      <th>PuestoUsuario</th>\n",
       "      <th>TipoPuesto</th>\n",
       "      <th>EstatusOT</th>\n",
       "      <th>IdTipoDocumento</th>\n",
       "      <th>IdPaquete</th>\n",
       "      <th>NumeroDiasMaximo</th>\n",
       "      <th>TAltaVsTActualizacion</th>\n",
       "      <th>TiempoAtencion</th>\n",
       "    </tr>\n",
       "  </thead>\n",
       "  <tbody>\n",
       "    <tr>\n",
       "      <th>0</th>\n",
       "      <td>3</td>\n",
       "      <td>3862</td>\n",
       "      <td>1349132</td>\n",
       "      <td>2020-09-30 13:38:46.750</td>\n",
       "      <td>2020-09-30 15:00:02.490</td>\n",
       "      <td>2020-09-30 14:51:32.150</td>\n",
       "      <td>Suscripción</td>\n",
       "      <td>430005322</td>\n",
       "      <td>SSO</td>\n",
       "      <td>Analista</td>\n",
       "      <td>Cotizacion</td>\n",
       "      <td>23298</td>\n",
       "      <td>1.0</td>\n",
       "      <td>6.0</td>\n",
       "      <td>0.12</td>\n",
       "      <td>0 days 01:12:45.400000</td>\n",
       "    </tr>\n",
       "    <tr>\n",
       "      <th>1</th>\n",
       "      <td>3</td>\n",
       "      <td>3862</td>\n",
       "      <td>1349159</td>\n",
       "      <td>2020-09-30 13:57:58.933</td>\n",
       "      <td>2020-09-30 18:00:04.800</td>\n",
       "      <td>2020-09-30 17:12:32.140</td>\n",
       "      <td>Suscripción</td>\n",
       "      <td>430005322</td>\n",
       "      <td>SSO</td>\n",
       "      <td>Analista</td>\n",
       "      <td>Cotizacion</td>\n",
       "      <td>23298</td>\n",
       "      <td>10.0</td>\n",
       "      <td>1.0</td>\n",
       "      <td>0.33</td>\n",
       "      <td>0 days 03:14:33.207000</td>\n",
       "    </tr>\n",
       "    <tr>\n",
       "      <th>2</th>\n",
       "      <td>3</td>\n",
       "      <td>3862</td>\n",
       "      <td>1349409</td>\n",
       "      <td>2020-09-30 17:23:32.253</td>\n",
       "      <td>2020-10-01 02:41:17.050</td>\n",
       "      <td>2020-09-30 18:21:41.463</td>\n",
       "      <td>Suscripción</td>\n",
       "      <td>430005322</td>\n",
       "      <td>SSO</td>\n",
       "      <td>Analista</td>\n",
       "      <td>Cotizacion</td>\n",
       "      <td>23298</td>\n",
       "      <td>2.0</td>\n",
       "      <td>1.0</td>\n",
       "      <td>0.10</td>\n",
       "      <td>0 days 00:58:09.210000</td>\n",
       "    </tr>\n",
       "    <tr>\n",
       "      <th>3</th>\n",
       "      <td>3</td>\n",
       "      <td>3862</td>\n",
       "      <td>1349432</td>\n",
       "      <td>2020-09-30 17:39:29.437</td>\n",
       "      <td>2020-10-01 15:00:02.343</td>\n",
       "      <td>2020-10-01 14:25:50.513</td>\n",
       "      <td>Suscripción</td>\n",
       "      <td>430005322</td>\n",
       "      <td>SSO</td>\n",
       "      <td>Analista</td>\n",
       "      <td>Cotizacion</td>\n",
       "      <td>23298</td>\n",
       "      <td>10.0</td>\n",
       "      <td>1.0</td>\n",
       "      <td>0.68</td>\n",
       "      <td>0 days 20:46:21.076000</td>\n",
       "    </tr>\n",
       "    <tr>\n",
       "      <th>4</th>\n",
       "      <td>3</td>\n",
       "      <td>3862</td>\n",
       "      <td>1349150</td>\n",
       "      <td>2020-09-30 13:52:00.463</td>\n",
       "      <td>2020-10-02 02:20:50.490</td>\n",
       "      <td>2020-10-01 18:34:59.773</td>\n",
       "      <td>Suscripción</td>\n",
       "      <td>430005322</td>\n",
       "      <td>SSO</td>\n",
       "      <td>Analista</td>\n",
       "      <td>Cotizacion</td>\n",
       "      <td>23298</td>\n",
       "      <td>5.0</td>\n",
       "      <td>3.0</td>\n",
       "      <td>1.47</td>\n",
       "      <td>1 days 04:42:59.310000</td>\n",
       "    </tr>\n",
       "  </tbody>\n",
       "</table>\n",
       "</div>"
      ],
      "text/plain": [
       "   IdOficina  IdOrigenOT     IdOT            TiempoAltaOt  \\\n",
       "0          3        3862  1349132 2020-09-30 13:38:46.750   \n",
       "1          3        3862  1349159 2020-09-30 13:57:58.933   \n",
       "2          3        3862  1349409 2020-09-30 17:23:32.253   \n",
       "3          3        3862  1349432 2020-09-30 17:39:29.437   \n",
       "4          3        3862  1349150 2020-09-30 13:52:00.463   \n",
       "\n",
       "      TiempoActualizacion           TiempoEmision NombreEstatus    Usuario  \\\n",
       "0 2020-09-30 15:00:02.490 2020-09-30 14:51:32.150   Suscripción  430005322   \n",
       "1 2020-09-30 18:00:04.800 2020-09-30 17:12:32.140   Suscripción  430005322   \n",
       "2 2020-10-01 02:41:17.050 2020-09-30 18:21:41.463   Suscripción  430005322   \n",
       "3 2020-10-01 15:00:02.343 2020-10-01 14:25:50.513   Suscripción  430005322   \n",
       "4 2020-10-02 02:20:50.490 2020-10-01 18:34:59.773   Suscripción  430005322   \n",
       "\n",
       "  PuestoUsuario TipoPuesto   EstatusOT  IdTipoDocumento  IdPaquete  \\\n",
       "0           SSO   Analista  Cotizacion            23298        1.0   \n",
       "1           SSO   Analista  Cotizacion            23298       10.0   \n",
       "2           SSO   Analista  Cotizacion            23298        2.0   \n",
       "3           SSO   Analista  Cotizacion            23298       10.0   \n",
       "4           SSO   Analista  Cotizacion            23298        5.0   \n",
       "\n",
       "   NumeroDiasMaximo  TAltaVsTActualizacion         TiempoAtencion  \n",
       "0               6.0                   0.12 0 days 01:12:45.400000  \n",
       "1               1.0                   0.33 0 days 03:14:33.207000  \n",
       "2               1.0                   0.10 0 days 00:58:09.210000  \n",
       "3               1.0                   0.68 0 days 20:46:21.076000  \n",
       "4               3.0                   1.47 1 days 04:42:59.310000  "
      ]
     },
     "execution_count": 91,
     "metadata": {},
     "output_type": "execute_result"
    }
   ],
   "source": [
    "datosAnalista.head()"
   ]
  },
  {
   "cell_type": "code",
   "execution_count": 108,
   "metadata": {},
   "outputs": [],
   "source": [
    "# datosAnalistaPorFecha = datosAnalista.groupby([datosAnalista[\"TiempoAltaOt\"].dt.date]).mean()\n",
    "# round(datosAnalista.resample('D',on='TiempoAltaOt').mean().dropna())\n",
    "datosHDIPorSemana = round(baseDatos.set_index('TiempoAltaOt').groupby(pd.Grouper(freq='W')).count())\n",
    "datosAnalistaPorSemana = round(datosAnalista.set_index('TiempoAltaOt').groupby(pd.Grouper(freq='W')).count())\n",
    "datosESYEPorFecha = round(datosESYE.set_index('TiempoAltaOt').groupby(pd.Grouper(freq='W')).count())\n",
    "datosDANPorSemana = round(datosDAN.set_index('TiempoAltaOt').groupby(pd.Grouper(freq='W')).count())\n",
    "\n",
    "# Gathering the number of OT per week by atention channel in one single dataframe\n",
    "ordenesPorSemana = pd.DataFrame({\"HDI\" : datosHDIPorSemana.IdOficina\n",
    "                                 , \"Analista\" : datosAnalistaPorSemana.IdOficina\n",
    "                                 , \"ESYE\" : datosESYEPorFecha.IdOficina\n",
    "                                 , \"DAN\" : datosDANPorSemana.IdOficina})"
   ]
  },
  {
   "cell_type": "code",
   "execution_count": 150,
   "metadata": {},
   "outputs": [
    {
     "data": {
      "image/png": "[encoded data removed]",
      "text/plain": [
       "<Figure size 720x576 with 4 Axes>"
      ]
     },
     "metadata": {},
     "output_type": "display_data"
    }
   ],
   "source": [
    "fig, [[ax1, ax2], [ax3, ax4]] = plt.subplots(2, 2, figsize=(10,8))\n",
    "\n",
    "ax1.set_title(\"Datos HDI\")\n",
    "ax1.bar(np.arange(len(ordenesPorSemana)),ordenesPorSemana['HDI'], color = \"#E60018\")\n",
    "ax1.yaxis.set_label_text(\"Número de OTs\")\n",
    "ax1.xaxis.set_label_text(\"Tiempo (semana)\")\n",
    "ax1.axvline(x = 12, color = \"#79B530\", linestyle = '--', lw = 2)\n",
    "\n",
    "ax2.set_title(\"Datos Analista\")\n",
    "ax2.bar(np.arange(len(ordenesPorSemana)),ordenesPorSemana['Analista'], color = \"#E60018\")\n",
    "ax2.yaxis.set_label_text(\"Número de OTs\")\n",
    "ax2.xaxis.set_label_text(\"Tiempo (semana)\")\n",
    "ax2.axvline(x = 12, color = \"#79B530\", linestyle = '--', lw = 2)\n",
    "\n",
    "ax3.set_title(\"Datos ESYE\")\n",
    "ax3.bar(np.arange(len(ordenesPorSemana)),ordenesPorSemana['ESYE'], color = \"#E60018\")\n",
    "ax3.yaxis.set_label_text(\"Número de OTs\")\n",
    "ax3.xaxis.set_label_text(\"Tiempo (semana)\")\n",
    "ax3.axvline(x = 12, color = \"#79B530\", linestyle = '--', lw = 2)\n",
    "\n",
    "ax4.set_title(\"DAN\")\n",
    "ax4.bar(np.arange(len(ordenesPorSemana)),ordenesPorSemana['DAN'], color = \"#E60018\")\n",
    "ax4.yaxis.set_label_text(\"Número de OTs\")\n",
    "ax4.xaxis.set_label_text(\"Tiempo (semana)\")\n",
    "ax4.axvline(x = 12, color = \"#79B530\", linestyle = '--', lw = 2)\n",
    "\n",
    "fig.subplots_adjust(hspace = 0.5, wspace=0.5)"
   ]
  },
  {
   "cell_type": "markdown",
   "metadata": {},
   "source": [
    "### Monte Carlo Markov Chain\n",
    "A continuación, se procede a modelar la distribución de los datos como variables aleatorias discretas. El objetivo es predecir mediante simulación de Monte Carlo y Cadenas de Markov si hay un momento en el que el número de órdenes recibidas cambia en el tiempo."
   ]
  },
  {
   "cell_type": "code",
   "execution_count": 144,
   "metadata": {},
   "outputs": [],
   "source": [
    "import pymc3 as pm\n",
    "import theano.tensor as tt\n",
    "\n",
    "with pm.Model() as model:\n",
    "    alpha = 1.0/(ordenesPorSemana.HDI).mean()\n",
    "    \n",
    "    lambda_1 = pm.Exponential(\"lambda_1\", alpha)\n",
    "    lambda_2 = pm.Exponential(\"lambda_2\", alpha)\n",
    "\n",
    "    tau = pm.DiscreteUniform(\"tau\", lower=0, upper=len(ordenesPorSemana)-1)"
   ]
  },
  {
   "cell_type": "code",
   "execution_count": 145,
   "metadata": {},
   "outputs": [],
   "source": [
    "with model:\n",
    "    idx = np.arange(len(ordenesPorSemana))\n",
    "    lambda_ = pm.math.switch(tau > idx, lambda_1, lambda_2)"
   ]
  },
  {
   "cell_type": "code",
   "execution_count": 148,
   "metadata": {},
   "outputs": [],
   "source": [
    "with model:\n",
    "    observation = pm.Poisson(\"obs\", lambda_, observed = ordenesPorSemana.HDI)"
   ]
  },
  {
   "cell_type": "code",
   "execution_count": 168,
   "metadata": {},
   "outputs": [
    {
     "name": "stderr",
     "output_type": "stream",
     "text": [
      "<ipython-input-168-8bdaba6d6c03>:3: FutureWarning: In v4.0, pm.sample will return an `arviz.InferenceData` object instead of a `MultiTrace` by default. You can pass return_inferencedata=True or return_inferencedata=False to be safe and silence this warning.\n",
      "  trace = pm.sample(10000, tune = 5000, step = step)\n",
      "Multiprocess sampling (4 chains in 4 jobs)\n",
      "CompoundStep\n",
      ">Metropolis: [tau]\n",
      ">Metropolis: [lambda_2]\n",
      ">Metropolis: [lambda_1]\n"
     ]
    },
    {
     "data": {
      "text/html": [
       "\n",
       "    <div>\n",
       "        <style>\n",
       "            /* Turns off some styling */\n",
       "            progress {\n",
       "                /* gets rid of default border in Firefox and Opera. */\n",
       "                border: none;\n",
       "                /* Needs to be in here for Safari polyfill so background images work as expected. */\n",
       "                background-size: auto;\n",
       "            }\n",
       "            .progress-bar-interrupted, .progress-bar-interrupted::-webkit-progress-bar {\n",
       "                background: #F44336;\n",
       "            }\n",
       "        </style>\n",
       "      <progress value='60000' class='' max='60000' style='width:300px; height:20px; vertical-align: middle;'></progress>\n",
       "      100.00% [60000/60000 08:22<00:00 Sampling 4 chains, 0 divergences]\n",
       "    </div>\n",
       "    "
      ],
      "text/plain": [
       "<IPython.core.display.HTML object>"
      ]
     },
     "metadata": {},
     "output_type": "display_data"
    },
    {
     "name": "stderr",
     "output_type": "stream",
     "text": [
      "Sampling 4 chains for 5_000 tune and 10_000 draw iterations (20_000 + 40_000 draws total) took 531 seconds.\n",
      "The rhat statistic is larger than 1.4 for some parameters. The sampler did not converge.\n",
      "The estimated number of effective samples is smaller than 200 for some parameters.\n"
     ]
    }
   ],
   "source": [
    "with model:\n",
    "    step = pm.Metropolis()\n",
    "    trace = pm.sample(10000, tune = 5000, step = step)"
   ]
  },
  {
   "cell_type": "code",
   "execution_count": 169,
   "metadata": {},
   "outputs": [],
   "source": [
    "lambda_1_samples = trace['lambda_1']\n",
    "lambda_2_samples = trace['lambda_2']\n",
    "tau_samples = trace['tau']"
   ]
  },
  {
   "cell_type": "code",
   "execution_count": 172,
   "metadata": {},
   "outputs": [
    {
     "data": {
      "image/png": "[encoded data removed]",
      "text/plain": [
       "<Figure size 900x720 with 3 Axes>"
      ]
     },
     "metadata": {},
     "output_type": "display_data"
    }
   ],
   "source": [
    "plt.subplots(figsize = (12.5, 10))\n",
    "#histogram of the samples:\n",
    "\n",
    "ax = plt.subplot(311)\n",
    "ax.set_autoscaley_on(False)\n",
    "\n",
    "plt.hist(lambda_1_samples, histtype='stepfilled', bins=30, alpha=0.85,\n",
    "         label=\"posterior of $\\lambda_1$\", color=\"#A60628\", density=True)\n",
    "plt.legend(loc=\"upper left\")\n",
    "plt.title(r\"\"\"Posterior distributions of the variables\n",
    "    $\\lambda_1,\\;\\lambda_2,\\;\\tau$\"\"\")\n",
    "# plt.xlim([15, 30])\n",
    "plt.ylim([0,0.05])\n",
    "plt.xlabel(\"$\\lambda_1$ value\")\n",
    "\n",
    "ax = plt.subplot(312)\n",
    "ax.set_autoscaley_on(False)\n",
    "plt.hist(lambda_2_samples, histtype='stepfilled', bins=30, alpha=0.85,\n",
    "         label=\"posterior of $\\lambda_2$\", color=\"#7A68A6\", density=True)\n",
    "plt.legend(loc=\"upper left\")\n",
    "# plt.xlim([15, 30])\n",
    "plt.ylim([0,0.05])\n",
    "plt.xlabel(\"$\\lambda_2$ value\")\n",
    "\n",
    "plt.subplot(313)\n",
    "w = 1.0 / tau_samples.shape[0] * np.ones_like(tau_samples)\n",
    "plt.hist(tau_samples, bins=len(ordenesPorSemana), alpha=1,\n",
    "         label=r\"posterior of $\\tau$\",\n",
    "         color=\"#467821\", weights=w, rwidth=2.)\n",
    "plt.xticks(np.arange(len(ordenesPorSemana)))\n",
    "\n",
    "plt.legend(loc=\"upper left\")\n",
    "plt.ylim([0, .4])\n",
    "plt.xlim([35, len(ordenesPorSemana)-20])\n",
    "plt.xlabel(r\"$\\tau$ (semanas)\")\n",
    "plt.ylabel(\"probability\");\n",
    "\n",
    "plt.show()"
   ]
  },
  {
   "cell_type": "code",
   "execution_count": null,
   "metadata": {},
   "outputs": [],
   "source": []
  },
  {
   "cell_type": "code",
   "execution_count": 192,
   "metadata": {},
   "outputs": [
    {
     "data": {
      "image/png": "[encoded data removed]",
      "text/plain": [
       "<Figure size 900x360 with 1 Axes>"
      ]
     },
     "metadata": {},
     "output_type": "display_data"
    }
   ],
   "source": [
    "plt.subplots(figsize = (12.5, 5))\n",
    "# tau_samples, lambda_1_samples, lambda_2_samples contain\n",
    "# N samples from the corresponding posterior distribution\n",
    "N = tau_samples.shape[0]\n",
    "expected_texts_per_day = np.zeros(len(ordenesPorSemana))\n",
    "for day in range(0, len(ordenesPorSemana)):\n",
    "    # ix is a bool index of all tau samples corresponding to\n",
    "    # the switchpoint occurring prior to value of 'day'\n",
    "    ix = day < tau_samples\n",
    "    # Each posterior sample corresponds to a value for tau.\n",
    "    # for each day, that value of tau indicates whether we're \"before\"\n",
    "    # (in the lambda1 \"regime\") or\n",
    "    #  \"after\" (in the lambda2 \"regime\") the switchpoint.\n",
    "    # by taking the posterior sample of lambda1/2 accordingly, we can average\n",
    "    # over all samples to get an expected value for lambda on that day.\n",
    "    # As explained, the \"message count\" random variable is Poisson distributed,\n",
    "    # and therefore lambda (the poisson parameter) is the expected value of\n",
    "    # \"message count\".\n",
    "    expected_texts_per_day[day] = (lambda_1_samples[ix].sum()\n",
    "                                   + lambda_2_samples[~ix].sum()) / N\n",
    "\n",
    "\n",
    "plt.plot(range(len(ordenesPorSemana)), expected_texts_per_day, lw=4, color=\"#E60018\",\n",
    "         label=\"Número de OTs esperadas\")\n",
    "plt.xlim(0, len(ordenesPorSemana))\n",
    "plt.xlabel(\"Semana\")\n",
    "plt.ylabel(\"Número esperado de OTs\")\n",
    "plt.title(\"Número de OTs esperadas y recibidas\")\n",
    "# plt.ylim(0, 60)\n",
    "plt.bar(np.arange(len(ordenesPorSemana)), ordenesPorSemana.HDI , color=\"#006729\", alpha=0.65,\n",
    "        label=\"OTs recibidas por día\")\n",
    "\n",
    "plt.legend(loc=\"upper left\");"
   ]
  },
  {
   "cell_type": "code",
   "execution_count": 193,
   "metadata": {
    "slideshow": {
     "slide_type": "-"
    }
   },
   "outputs": [
    {
     "data": {
      "text/plain": [
       "HDI         786\n",
       "Analista    388\n",
       "ESYE        145\n",
       "DAN         253\n",
       "Name: 2020-12-27 00:00:00, dtype: int64"
      ]
     },
     "execution_count": 193,
     "metadata": {},
     "output_type": "execute_result"
    }
   ],
   "source": [
    "ordenesPorSemana.iloc[12]"
   ]
  },
  {
   "cell_type": "code",
   "execution_count": 194,
   "metadata": {},
   "outputs": [
    {
     "data": {
      "text/html": [
       "<div>\n",
       "<style scoped>\n",
       "    .dataframe tbody tr th:only-of-type {\n",
       "        vertical-align: middle;\n",
       "    }\n",
       "\n",
       "    .dataframe tbody tr th {\n",
       "        vertical-align: top;\n",
       "    }\n",
       "\n",
       "    .dataframe thead th {\n",
       "        text-align: right;\n",
       "    }\n",
       "</style>\n",
       "<table border=\"1\" class=\"dataframe\">\n",
       "  <thead>\n",
       "    <tr style=\"text-align: right;\">\n",
       "      <th></th>\n",
       "      <th>HDI</th>\n",
       "      <th>Analista</th>\n",
       "      <th>ESYE</th>\n",
       "      <th>DAN</th>\n",
       "    </tr>\n",
       "  </thead>\n",
       "  <tbody>\n",
       "    <tr>\n",
       "      <th>count</th>\n",
       "      <td>26.0</td>\n",
       "      <td>26.0</td>\n",
       "      <td>26.0</td>\n",
       "      <td>26.0</td>\n",
       "    </tr>\n",
       "    <tr>\n",
       "      <th>mean</th>\n",
       "      <td>1245.0</td>\n",
       "      <td>614.0</td>\n",
       "      <td>205.0</td>\n",
       "      <td>425.0</td>\n",
       "    </tr>\n",
       "    <tr>\n",
       "      <th>std</th>\n",
       "      <td>324.0</td>\n",
       "      <td>176.0</td>\n",
       "      <td>70.0</td>\n",
       "      <td>117.0</td>\n",
       "    </tr>\n",
       "    <tr>\n",
       "      <th>min</th>\n",
       "      <td>123.0</td>\n",
       "      <td>53.0</td>\n",
       "      <td>16.0</td>\n",
       "      <td>54.0</td>\n",
       "    </tr>\n",
       "    <tr>\n",
       "      <th>25%</th>\n",
       "      <td>1132.0</td>\n",
       "      <td>578.0</td>\n",
       "      <td>161.0</td>\n",
       "      <td>368.0</td>\n",
       "    </tr>\n",
       "    <tr>\n",
       "      <th>50%</th>\n",
       "      <td>1378.0</td>\n",
       "      <td>644.0</td>\n",
       "      <td>214.0</td>\n",
       "      <td>449.0</td>\n",
       "    </tr>\n",
       "    <tr>\n",
       "      <th>75%</th>\n",
       "      <td>1434.0</td>\n",
       "      <td>720.0</td>\n",
       "      <td>244.0</td>\n",
       "      <td>490.0</td>\n",
       "    </tr>\n",
       "    <tr>\n",
       "      <th>max</th>\n",
       "      <td>1578.0</td>\n",
       "      <td>895.0</td>\n",
       "      <td>356.0</td>\n",
       "      <td>610.0</td>\n",
       "    </tr>\n",
       "  </tbody>\n",
       "</table>\n",
       "</div>"
      ],
      "text/plain": [
       "          HDI  Analista   ESYE    DAN\n",
       "count    26.0      26.0   26.0   26.0\n",
       "mean   1245.0     614.0  205.0  425.0\n",
       "std     324.0     176.0   70.0  117.0\n",
       "min     123.0      53.0   16.0   54.0\n",
       "25%    1132.0     578.0  161.0  368.0\n",
       "50%    1378.0     644.0  214.0  449.0\n",
       "75%    1434.0     720.0  244.0  490.0\n",
       "max    1578.0     895.0  356.0  610.0"
      ]
     },
     "execution_count": 194,
     "metadata": {},
     "output_type": "execute_result"
    }
   ],
   "source": [
    "round(ordenesPorSemana.describe())"
   ]
  },
  {
   "cell_type": "code",
   "execution_count": null,
   "metadata": {},
   "outputs": [],
   "source": []
  }
 ],
 "metadata": {
  "kernelspec": {
   "display_name": "Python 3",
   "language": "python",
   "name": "python3"
  },
  "language_info": {
   "codemirror_mode": {
    "name": "ipython",
    "version": 3
   },
   "file_extension": ".py",
   "mimetype": "text/x-python",
   "name": "python",
   "nbconvert_exporter": "python",
   "pygments_lexer": "ipython3",
   "version": "3.8.5"
  }
 },
 "nbformat": 4,
 "nbformat_minor": 4
}
