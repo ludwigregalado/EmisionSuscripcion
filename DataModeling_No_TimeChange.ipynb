{
 "cells": [
  {
   "cell_type": "markdown",
   "id": "2b7ccb62",
   "metadata": {},
   "source": [
    "### Data modeling of request orders"
   ]
  },
  {
   "cell_type": "code",
   "execution_count": 1,
   "id": "42a6be7f",
   "metadata": {},
   "outputs": [
    {
     "name": "stderr",
     "output_type": "stream",
     "text": [
      "WARNING (theano.configdefaults): g++ not available, if using conda: `conda install m2w64-toolchain`\n",
      "WARNING (theano.configdefaults): g++ not detected ! Theano will be unable to execute optimized C-implementations (for both CPU and GPU) and will default to Python implementations. Performance will be severely degraded. To remove this warning, set Theano flags cxx to an empty string.\n",
      "WARNING (theano.tensor.blas): Using NumPy C-API based implementation for BLAS functions.\n"
     ]
    }
   ],
   "source": [
    "# Importing all the necessary libraries\n",
    "import numpy as np              # Numerical array manipulation\n",
    "import matplotlib.pyplot as plt # Plotting capabilities\n",
    "import pymc3 as pm              # Python Monte Carlo Markov Chain package\n",
    "import functionES as es         # Customized functions for this project\n",
    "import seaborn as sns           # Fancy plot visualizations\n",
    "import arviz as az\n",
    "import pyodbc, datetime\n",
    "import pandas as pd\n",
    "# import theano.tensor as tt\n",
    "\n",
    "#  Loading data\n",
    "datos = es.importing_data('OTs_NoDet.sql', 15, 1)\n",
    "\n",
    "# Filtering data to keep the request orders finished\n",
    "# datosObservados = es.process_filter(datos)# Advanced process mining filtering"
   ]
  },
  {
   "cell_type": "code",
   "execution_count": 2,
   "id": "f1359663",
   "metadata": {},
   "outputs": [],
   "source": [
    "# datos.head()\n",
    "datos['TiempoAtencion'] = round((datos.TiempoEstatus-datos.TiempoAltaOt).dt.total_seconds()/3600)"
   ]
  },
  {
   "cell_type": "code",
   "execution_count": 3,
   "id": "0d8828dd",
   "metadata": {},
   "outputs": [],
   "source": [
    "datosObservados = datos.sort_values('TiempoAltaOt', ascending=True)\n",
    "count_obs = len(datosObservados)# How many observations we have"
   ]
  },
  {
   "cell_type": "code",
   "execution_count": 4,
   "id": "0e6e1d28",
   "metadata": {},
   "outputs": [
    {
     "data": {
      "text/plain": [
       "4889"
      ]
     },
     "execution_count": 4,
     "metadata": {},
     "output_type": "execute_result"
    }
   ],
   "source": [
    "# datos.to_csv(\"datosTest.csv\", index = False, header = True)\n",
    "datosObservados.shape[0]"
   ]
  },
  {
   "cell_type": "code",
   "execution_count": 5,
   "id": "df80e70a",
   "metadata": {},
   "outputs": [
    {
     "data": {
      "image/png": "[encoded data removed]",
      "text/plain": [
       "<Figure size 432x288 with 1 Axes>"
      ]
     },
     "metadata": {
      "needs_background": "light"
     },
     "output_type": "display_data"
    }
   ],
   "source": [
    "f = plt.figure()\n",
    "ax1 = f.add_subplot(1,1,1)\n",
    "\n",
    "ax1.bar(np.arange(len(datos)),datos.TiempoAtencion, edgecolor = \"#E60018\")\n",
    "ax1.yaxis.set_label_text(\"Tiempo de atención (horas)\")\n",
    "plt.show()"
   ]
  },
  {
   "cell_type": "code",
   "execution_count": 6,
   "id": "fccf85a4",
   "metadata": {},
   "outputs": [
    {
     "data": {
      "image/png": "[encoded data removed]",
      "text/plain": [
       "<Figure size 432x288 with 1 Axes>"
      ]
     },
     "metadata": {
      "needs_background": "light"
     },
     "output_type": "display_data"
    }
   ],
   "source": [
    "sns.kdeplot(datosObservados.TiempoAtencion)\n",
    "plt.xlabel(\"Tiempo (horas)\")\n",
    "plt.ylabel(\"Densidad\")\n",
    "plt.show()"
   ]
  },
  {
   "cell_type": "code",
   "execution_count": 7,
   "id": "5e25238d",
   "metadata": {},
   "outputs": [
    {
     "data": {
      "text/html": [
       "<div>\n",
       "<style scoped>\n",
       "    .dataframe tbody tr th:only-of-type {\n",
       "        vertical-align: middle;\n",
       "    }\n",
       "\n",
       "    .dataframe tbody tr th {\n",
       "        vertical-align: top;\n",
       "    }\n",
       "\n",
       "    .dataframe thead th {\n",
       "        text-align: right;\n",
       "    }\n",
       "</style>\n",
       "<table border=\"1\" class=\"dataframe\">\n",
       "  <thead>\n",
       "    <tr style=\"text-align: right;\">\n",
       "      <th></th>\n",
       "      <th>IdOT</th>\n",
       "      <th>TiempoAtencion</th>\n",
       "    </tr>\n",
       "  </thead>\n",
       "  <tbody>\n",
       "    <tr>\n",
       "      <th>count</th>\n",
       "      <td>4.889000e+03</td>\n",
       "      <td>4889.000000</td>\n",
       "    </tr>\n",
       "    <tr>\n",
       "      <th>mean</th>\n",
       "      <td>1.474304e+06</td>\n",
       "      <td>28.175905</td>\n",
       "    </tr>\n",
       "    <tr>\n",
       "      <th>std</th>\n",
       "      <td>2.413917e+03</td>\n",
       "      <td>37.397002</td>\n",
       "    </tr>\n",
       "    <tr>\n",
       "      <th>min</th>\n",
       "      <td>1.470245e+06</td>\n",
       "      <td>0.000000</td>\n",
       "    </tr>\n",
       "    <tr>\n",
       "      <th>25%</th>\n",
       "      <td>1.472266e+06</td>\n",
       "      <td>1.000000</td>\n",
       "    </tr>\n",
       "    <tr>\n",
       "      <th>50%</th>\n",
       "      <td>1.474220e+06</td>\n",
       "      <td>15.000000</td>\n",
       "    </tr>\n",
       "    <tr>\n",
       "      <th>75%</th>\n",
       "      <td>1.476274e+06</td>\n",
       "      <td>42.000000</td>\n",
       "    </tr>\n",
       "    <tr>\n",
       "      <th>max</th>\n",
       "      <td>1.478986e+06</td>\n",
       "      <td>303.000000</td>\n",
       "    </tr>\n",
       "  </tbody>\n",
       "</table>\n",
       "</div>"
      ],
      "text/plain": [
       "               IdOT  TiempoAtencion\n",
       "count  4.889000e+03     4889.000000\n",
       "mean   1.474304e+06       28.175905\n",
       "std    2.413917e+03       37.397002\n",
       "min    1.470245e+06        0.000000\n",
       "25%    1.472266e+06        1.000000\n",
       "50%    1.474220e+06       15.000000\n",
       "75%    1.476274e+06       42.000000\n",
       "max    1.478986e+06      303.000000"
      ]
     },
     "execution_count": 7,
     "metadata": {},
     "output_type": "execute_result"
    }
   ],
   "source": [
    "datosObservados.describe()"
   ]
  },
  {
   "cell_type": "code",
   "execution_count": 8,
   "id": "3634617c",
   "metadata": {},
   "outputs": [
    {
     "data": {
      "image/png": "[encoded data removed]",
      "text/plain": [
       "<Figure size 432x288 with 1 Axes>"
      ]
     },
     "metadata": {
      "needs_background": "light"
     },
     "output_type": "display_data"
    }
   ],
   "source": [
    "pm.plot_posterior(datos.TiempoAtencion.to_numpy(), hdi_prob = 0.9)\n",
    "plt.title(\"Distribución de casos\")\n",
    "plt.show()"
   ]
  },
  {
   "cell_type": "code",
   "execution_count": 9,
   "id": "8b2f9fd3",
   "metadata": {},
   "outputs": [
    {
     "name": "stderr",
     "output_type": "stream",
     "text": [
      "<ipython-input-9-7d199248b066>:23: FutureWarning: In v4.0, pm.sample will return an `arviz.InferenceData` object instead of a `MultiTrace` by default. You can pass return_inferencedata=True or return_inferencedata=False to be safe and silence this warning.\n",
      "  trace = pm.sample(1000, tune = 500, step = step, progressbar = True)#, start = start)\n",
      "Multiprocess sampling (4 chains in 4 jobs)\n",
      "Metropolis: [lambda_1]\n"
     ]
    },
    {
     "data": {
      "text/html": [
       "\n",
       "    <div>\n",
       "        <style>\n",
       "            /* Turns off some styling */\n",
       "            progress {\n",
       "                /* gets rid of default border in Firefox and Opera. */\n",
       "                border: none;\n",
       "                /* Needs to be in here for Safari polyfill so background images work as expected. */\n",
       "                background-size: auto;\n",
       "            }\n",
       "            .progress-bar-interrupted, .progress-bar-interrupted::-webkit-progress-bar {\n",
       "                background: #F44336;\n",
       "            }\n",
       "        </style>\n",
       "      <progress value='6000' class='' max='6000' style='width:300px; height:20px; vertical-align: middle;'></progress>\n",
       "      100.00% [6000/6000 36:32<00:00 Sampling 4 chains, 0 divergences]\n",
       "    </div>\n",
       "    "
      ],
      "text/plain": [
       "<IPython.core.display.HTML object>"
      ]
     },
     "metadata": {},
     "output_type": "display_data"
    },
    {
     "name": "stderr",
     "output_type": "stream",
     "text": [
      "Sampling 4 chains for 500 tune and 1_000 draw iterations (2_000 + 4_000 draws total) took 2223 seconds.\n",
      "The number of effective samples is smaller than 10% for some parameters.\n"
     ]
    }
   ],
   "source": [
    "# Generating Model context\n",
    "with pm.Model() as model:\n",
    "    alpha = 1.0/(datosObservados.TiempoAtencion).mean()\n",
    "    \n",
    "    lambda_1 = pm.Exponential(\"lambda_1\", alpha)\n",
    "#     lambda_2 = pm.Exponential(\"lambda_2\", alpha)\n",
    "\n",
    "#     tau = pm.DiscreteUniform(\"tau\", lower=0, upper=count_obs-1)\n",
    "\n",
    "# Generating lambdas (two because at some point, lambda changes its value)\n",
    "with model:\n",
    "    idx = np.arange(count_obs)\n",
    "    lambda_ = lambda_1 #pm.math.switch(tau > idx, lambda_1, lambda_2)\n",
    "    \n",
    "# Generation Observation distribution\n",
    "with model:\n",
    "    observation = pm.Poisson(\"obs\", lambda_, observed = datosObservados.TiempoAtencion)\n",
    "    \n",
    "# Generating simulations\n",
    "with model:\n",
    "    step = pm.Metropolis()\n",
    "#     start = pm.find_MAP()\n",
    "    trace = pm.sample(1000, tune = 500, step = step, progressbar = True)#, start = start)\n",
    "    \n",
    "lambda_1_samples = trace['lambda_1']\n",
    "# lambda_2_samples = trace['lambda_2']\n",
    "# tau_samples = trace['tau']"
   ]
  },
  {
   "cell_type": "code",
   "execution_count": 10,
   "id": "fa19d31e",
   "metadata": {},
   "outputs": [],
   "source": [
    "# az.plot_trace(trace)\n",
    "# plt.show()"
   ]
  },
  {
   "cell_type": "code",
   "execution_count": 11,
   "id": "6f72f002",
   "metadata": {},
   "outputs": [],
   "source": [
    "# pm.summary(trace)"
   ]
  },
  {
   "cell_type": "code",
   "execution_count": 12,
   "id": "3f6860dd",
   "metadata": {},
   "outputs": [],
   "source": [
    "with model:\n",
    "    posterior_predictive= pm.fast_sample_posterior_predictive(trace)"
   ]
  },
  {
   "cell_type": "code",
   "execution_count": 13,
   "id": "bb7e09db",
   "metadata": {},
   "outputs": [
    {
     "data": {
      "image/png": "[encoded data removed]",
      "text/plain": [
       "<Figure size 432x288 with 1 Axes>"
      ]
     },
     "metadata": {
      "needs_background": "light"
     },
     "output_type": "display_data"
    }
   ],
   "source": [
    "az.plot_posterior(posterior_predictive[\"obs\"][:,0], hdi_prob = 0.99)\n",
    "plt.show()"
   ]
  },
  {
   "cell_type": "code",
   "execution_count": 14,
   "id": "54179dc3",
   "metadata": {},
   "outputs": [],
   "source": [
    "IQRx1_5 = 1.5*(np.quantile(posterior_predictive[\"obs\"][:,0], 0.75)-np.quantile(posterior_predictive[\"obs\"][:,0], 0.25))\n",
    "prediccion = pd.DataFrame(np.array([[np.quantile(posterior_predictive[\"obs\"][:,0], 0.25)-IQRx1_5\n",
    "                          , np.quantile(posterior_predictive[\"obs\"][:,0], 0.25)\n",
    "                          , np.quantile(posterior_predictive[\"obs\"][:,0], 0.50)\n",
    "                          , np.quantile(posterior_predictive[\"obs\"][:,0], 0.75)\n",
    "                          , np.quantile(posterior_predictive[\"obs\"][:,0], 0.75)+IQRx1_5]]), \n",
    "                          columns = [\"Min_90\", \"Q1\", \"Q2\", \"Q3\", \"Max_90\"])\n",
    "prediccion[\"FechaPrediccion\"]= datetime.datetime.today()"
   ]
  },
  {
   "cell_type": "code",
   "execution_count": 15,
   "id": "fa399b17",
   "metadata": {
    "scrolled": true
   },
   "outputs": [
    {
     "data": {
      "image/png": "[encoded data removed]",
      "text/plain": [
       "<Figure size 432x288 with 1 Axes>"
      ]
     },
     "metadata": {
      "needs_background": "light"
     },
     "output_type": "display_data"
    }
   ],
   "source": [
    "sns.kdeplot(posterior_predictive[\"obs\"][:,0])\n",
    "plt.xlabel(\"Tiempo (horas)\")\n",
    "plt.ylabel(\"Densidad\")\n",
    "plt.show()"
   ]
  },
  {
   "cell_type": "code",
   "execution_count": 16,
   "id": "55819c26",
   "metadata": {},
   "outputs": [
    {
     "data": {
      "text/html": [
       "<div>\n",
       "<style scoped>\n",
       "    .dataframe tbody tr th:only-of-type {\n",
       "        vertical-align: middle;\n",
       "    }\n",
       "\n",
       "    .dataframe tbody tr th {\n",
       "        vertical-align: top;\n",
       "    }\n",
       "\n",
       "    .dataframe thead th {\n",
       "        text-align: right;\n",
       "    }\n",
       "</style>\n",
       "<table border=\"1\" class=\"dataframe\">\n",
       "  <thead>\n",
       "    <tr style=\"text-align: right;\">\n",
       "      <th></th>\n",
       "      <th>Min_90</th>\n",
       "      <th>Q1</th>\n",
       "      <th>Q2</th>\n",
       "      <th>Q3</th>\n",
       "      <th>Max_90</th>\n",
       "      <th>FechaPrediccion</th>\n",
       "    </tr>\n",
       "  </thead>\n",
       "  <tbody>\n",
       "    <tr>\n",
       "      <th>0</th>\n",
       "      <td>12.0</td>\n",
       "      <td>24.0</td>\n",
       "      <td>28.0</td>\n",
       "      <td>32.0</td>\n",
       "      <td>44.0</td>\n",
       "      <td>2021-05-06 13:38:19.482070</td>\n",
       "    </tr>\n",
       "  </tbody>\n",
       "</table>\n",
       "</div>"
      ],
      "text/plain": [
       "   Min_90    Q1    Q2    Q3  Max_90            FechaPrediccion\n",
       "0    12.0  24.0  28.0  32.0    44.0 2021-05-06 13:38:19.482070"
      ]
     },
     "execution_count": 16,
     "metadata": {},
     "output_type": "execute_result"
    }
   ],
   "source": [
    "prediccion"
   ]
  }
 ],
 "metadata": {
  "kernelspec": {
   "display_name": "Python 3",
   "language": "python",
   "name": "python3"
  },
  "language_info": {
   "codemirror_mode": {
    "name": "ipython",
    "version": 3
   },
   "file_extension": ".py",
   "mimetype": "text/x-python",
   "name": "python",
   "nbconvert_exporter": "python",
   "pygments_lexer": "ipython3",
   "version": "3.8.5"
  }
 },
 "nbformat": 4,
 "nbformat_minor": 5
}
